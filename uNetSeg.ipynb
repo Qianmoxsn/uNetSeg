{
 "cells": [
  {
   "cell_type": "code",
   "execution_count": 1,
   "outputs": [],
   "source": [
    "import os\n",
    "\n",
    "import numpy as np\n",
    "import torch\n",
    "import torch.nn as nn\n",
    "from PIL import Image\n",
    "from torch.nn import functional as F\n",
    "from torch.utils.data import Dataset, DataLoader\n",
    "from torchsummary import summary\n",
    "from torchvision import transforms"
   ],
   "metadata": {
    "collapsed": false
   }
  },
  {
   "cell_type": "code",
   "execution_count": 2,
   "metadata": {
    "collapsed": true
   },
   "outputs": [
    {
     "name": "stdout",
     "output_type": "stream",
     "text": [
      "train_img_dir: 9420\n",
      "train_label_dir: 9420\n",
      "test_img_dir: 3848\n",
      "test_label_dir: 3848\n",
      "val_img_dir: 1537\n",
      "val_label_dir: 1537\n"
     ]
    }
   ],
   "source": [
    "# 检查数据集\n",
    "\n",
    "Data_ROOT_PATH = './DataSet'\n",
    "train_dir = os.path.join(Data_ROOT_PATH, 'train')\n",
    "test_dir = os.path.join(Data_ROOT_PATH, 'test')\n",
    "val_dir = os.path.join(Data_ROOT_PATH, 'val')\n",
    "\n",
    "train_img_dir = os.path.join(train_dir, 'image')\n",
    "train_label_dir = os.path.join(train_dir, 'label')\n",
    "\n",
    "test_img_dir = os.path.join(test_dir, 'image')\n",
    "test_label_dir = os.path.join(test_dir, 'label')\n",
    "\n",
    "val_img_dir = os.path.join(val_dir, 'image')\n",
    "val_label_dir = os.path.join(val_dir, 'label')\n",
    "\n",
    "# 输出数据集的大小\n",
    "print('train_img_dir:', len(os.listdir(train_img_dir)))\n",
    "print('train_label_dir:', len(os.listdir(train_label_dir)))\n",
    "print('test_img_dir:', len(os.listdir(test_img_dir)))\n",
    "print('test_label_dir:', len(os.listdir(test_label_dir)))\n",
    "print('val_img_dir:', len(os.listdir(val_img_dir)))\n",
    "print('val_label_dir:', len(os.listdir(val_label_dir)))\n"
   ]
  },
  {
   "cell_type": "code",
   "execution_count": 3,
   "outputs": [],
   "source": [
    "class ImageDataset(Dataset):\n",
    "    def __init__(self, img_dir, label_dir, transform=None):\n",
    "        self.img_dir = img_dir\n",
    "        self.label_dir = label_dir\n",
    "        self.transform = transform\n",
    "        self.images = os.listdir(img_dir)\n",
    "\n",
    "    def __len__(self):\n",
    "        return len(self.images)\n",
    "\n",
    "    def __getitem__(self, index):\n",
    "        img_path = os.path.join(self.img_dir, self.images[index])\n",
    "        label_path = os.path.join(self.label_dir, self.images[index])\n",
    "        image = Image.open(img_path).convert('RGB')\n",
    "        label = np.array(Image.open(label_path).convert('L'), dtype=np.float32)\n",
    "        label[label == 255.0] = 1.0\n",
    "\n",
    "        if self.transform is not None:\n",
    "            image = self.transform(image)\n",
    "            label = torch.from_numpy(label).long()  # 将 NumPy 数组转换为 torch Tensor\n",
    "\n",
    "        return image, label\n",
    "\n",
    "\n",
    "transform = transforms.Compose([\n",
    "    transforms.ToTensor(),\n",
    "])\n",
    "\n",
    "Batch_size = 4\n",
    "\n",
    "train_loader = DataLoader(\n",
    "    ImageDataset(train_img_dir, train_label_dir, transform=transform),\n",
    "    batch_size=Batch_size,\n",
    "    shuffle=True,\n",
    ")\n",
    "val_loader = DataLoader(\n",
    "    ImageDataset(val_img_dir, val_label_dir, transform=transform),\n",
    "    batch_size=Batch_size,\n",
    "    shuffle=True,\n",
    ")\n",
    "test_loader = DataLoader(\n",
    "    ImageDataset(test_img_dir, test_label_dir, transform=transform),\n",
    "    batch_size=Batch_size,\n",
    "    shuffle=True,\n",
    ")"
   ],
   "metadata": {
    "collapsed": false
   }
  },
  {
   "cell_type": "code",
   "execution_count": 4,
   "outputs": [],
   "source": [
    "class DoubleConv(nn.Module):\n",
    "    \"\"\"(convolution => [BN] => ReLU) * 2\"\"\"\n",
    "\n",
    "    def __init__(self, in_channels, out_channels, mid_channels=None):\n",
    "        super().__init__()\n",
    "        if not mid_channels:\n",
    "            mid_channels = out_channels\n",
    "        self.double_conv = nn.Sequential(\n",
    "            nn.Conv2d(in_channels, mid_channels, kernel_size=3, padding=1, bias=False),\n",
    "            nn.BatchNorm2d(mid_channels),\n",
    "            nn.ReLU(inplace=True),\n",
    "            nn.Conv2d(mid_channels, out_channels, kernel_size=3, padding=1, bias=False),\n",
    "            nn.BatchNorm2d(out_channels),\n",
    "            nn.ReLU(inplace=True)\n",
    "        )\n",
    "\n",
    "    def forward(self, x):\n",
    "        return self.double_conv(x)\n",
    "\n",
    "\n",
    "class Down(nn.Module):\n",
    "    \"\"\"Downscaling with maxpool then double conv\"\"\"\n",
    "\n",
    "    def __init__(self, in_channels, out_channels):\n",
    "        super().__init__()\n",
    "        self.maxpool_conv = nn.Sequential(\n",
    "            nn.MaxPool2d(2),\n",
    "            DoubleConv(in_channels, out_channels)\n",
    "        )\n",
    "\n",
    "    def forward(self, x):\n",
    "        return self.maxpool_conv(x)\n",
    "\n",
    "\n",
    "class Up(nn.Module):\n",
    "    \"\"\"Upscaling then double conv\"\"\"\n",
    "\n",
    "    def __init__(self, in_channels, out_channels, bilinear=True):\n",
    "        super().__init__()\n",
    "\n",
    "        # if bilinear, use the normal convolutions to reduce the number of channels\n",
    "        if bilinear:\n",
    "            self.up = nn.Upsample(scale_factor=2, mode='bilinear', align_corners=True)\n",
    "            self.conv = DoubleConv(in_channels, out_channels, in_channels // 2)\n",
    "        else:\n",
    "            self.up = nn.ConvTranspose2d(in_channels, in_channels // 2, kernel_size=2, stride=2)\n",
    "            self.conv = DoubleConv(in_channels, out_channels)\n",
    "\n",
    "    def forward(self, x1, x2):\n",
    "        x1 = self.up(x1)\n",
    "        # input is CHW\n",
    "        diffY = x2.size()[2] - x1.size()[2]\n",
    "        diffX = x2.size()[3] - x1.size()[3]\n",
    "\n",
    "        x1 = F.pad(x1, [diffX // 2, diffX - diffX // 2,\n",
    "                        diffY // 2, diffY - diffY // 2])\n",
    "        # if you have padding issues, see\n",
    "        # https://github.com/HaiyongJiang/U-Net-Pytorch-Unstructured-Buggy/commit/0e854509c2cea854e247a9c615f175f76fbb2e3a\n",
    "        # https://github.com/xiaopeng-liao/Pytorch-UNet/commit/8ebac70e633bac59fc22bb5195e513d5832fb3bd\n",
    "        x = torch.cat([x2, x1], dim=1)\n",
    "        return self.conv(x)\n",
    "\n",
    "\n",
    "class OutConv(nn.Module):\n",
    "    def __init__(self, in_channels, out_channels):\n",
    "        super(OutConv, self).__init__()\n",
    "        self.conv = nn.Conv2d(in_channels, out_channels, kernel_size=1)\n",
    "\n",
    "    def forward(self, x):\n",
    "        return self.conv(x)\n",
    "\n",
    "\n",
    "class UNet(nn.Module):\n",
    "    def __init__(self, n_channels, n_classes, bilinear=False):\n",
    "        super(UNet, self).__init__()\n",
    "        self.n_channels = n_channels\n",
    "        self.n_classes = n_classes\n",
    "        self.bilinear = bilinear\n",
    "\n",
    "        self.inc = (DoubleConv(n_channels, 64))\n",
    "        self.down1 = (Down(64, 128))\n",
    "        self.down2 = (Down(128, 256))\n",
    "        self.down3 = (Down(256, 512))\n",
    "        factor = 2 if bilinear else 1\n",
    "        self.down4 = (Down(512, 1024 // factor))\n",
    "        self.up1 = (Up(1024, 512 // factor, bilinear))\n",
    "        self.up2 = (Up(512, 256 // factor, bilinear))\n",
    "        self.up3 = (Up(256, 128 // factor, bilinear))\n",
    "        self.up4 = (Up(128, 64, bilinear))\n",
    "        self.outc = (OutConv(64, n_classes))\n",
    "\n",
    "    def forward(self, x):\n",
    "        x1 = self.inc(x)\n",
    "        x2 = self.down1(x1)\n",
    "        x3 = self.down2(x2)\n",
    "        x4 = self.down3(x3)\n",
    "        x5 = self.down4(x4)\n",
    "        x = self.up1(x5, x4)\n",
    "        x = self.up2(x, x3)\n",
    "        x = self.up3(x, x2)\n",
    "        x = self.up4(x, x1)\n",
    "        logits = self.outc(x)\n",
    "        return logits\n",
    "\n",
    "    def use_checkpointing(self):\n",
    "        self.inc = torch.utils.checkpoint(self.inc)\n",
    "        self.down1 = torch.utils.checkpoint(self.down1)\n",
    "        self.down2 = torch.utils.checkpoint(self.down2)\n",
    "        self.down3 = torch.utils.checkpoint(self.down3)\n",
    "        self.down4 = torch.utils.checkpoint(self.down4)\n",
    "        self.up1 = torch.utils.checkpoint(self.up1)\n",
    "        self.up2 = torch.utils.checkpoint(self.up2)\n",
    "        self.up3 = torch.utils.checkpoint(self.up3)\n",
    "        self.up4 = torch.utils.checkpoint(self.up4)\n",
    "        self.outc = torch.utils.checkpoint(self.outc)"
   ],
   "metadata": {
    "collapsed": false
   }
  },
  {
   "cell_type": "code",
   "execution_count": 5,
   "outputs": [
    {
     "data": {
      "text/plain": "device(type='cuda')"
     },
     "execution_count": 5,
     "metadata": {},
     "output_type": "execute_result"
    }
   ],
   "source": [
    "# Check for GPU availability\n",
    "device = torch.device(\"cuda\" if torch.cuda.is_available() else \"cpu\")\n",
    "device"
   ],
   "metadata": {
    "collapsed": false
   }
  },
  {
   "cell_type": "code",
   "execution_count": 6,
   "outputs": [
    {
     "name": "stdout",
     "output_type": "stream",
     "text": [
      "----------------------------------------------------------------\n",
      "        Layer (type)               Output Shape         Param #\n",
      "================================================================\n",
      "            Conv2d-1         [-1, 64, 512, 512]           1,728\n",
      "       BatchNorm2d-2         [-1, 64, 512, 512]             128\n",
      "              ReLU-3         [-1, 64, 512, 512]               0\n",
      "            Conv2d-4         [-1, 64, 512, 512]          36,864\n",
      "       BatchNorm2d-5         [-1, 64, 512, 512]             128\n",
      "              ReLU-6         [-1, 64, 512, 512]               0\n",
      "        DoubleConv-7         [-1, 64, 512, 512]               0\n",
      "         MaxPool2d-8         [-1, 64, 256, 256]               0\n",
      "            Conv2d-9        [-1, 128, 256, 256]          73,728\n",
      "      BatchNorm2d-10        [-1, 128, 256, 256]             256\n",
      "             ReLU-11        [-1, 128, 256, 256]               0\n",
      "           Conv2d-12        [-1, 128, 256, 256]         147,456\n",
      "      BatchNorm2d-13        [-1, 128, 256, 256]             256\n",
      "             ReLU-14        [-1, 128, 256, 256]               0\n",
      "       DoubleConv-15        [-1, 128, 256, 256]               0\n",
      "             Down-16        [-1, 128, 256, 256]               0\n",
      "        MaxPool2d-17        [-1, 128, 128, 128]               0\n",
      "           Conv2d-18        [-1, 256, 128, 128]         294,912\n",
      "      BatchNorm2d-19        [-1, 256, 128, 128]             512\n",
      "             ReLU-20        [-1, 256, 128, 128]               0\n",
      "           Conv2d-21        [-1, 256, 128, 128]         589,824\n",
      "      BatchNorm2d-22        [-1, 256, 128, 128]             512\n",
      "             ReLU-23        [-1, 256, 128, 128]               0\n",
      "       DoubleConv-24        [-1, 256, 128, 128]               0\n",
      "             Down-25        [-1, 256, 128, 128]               0\n",
      "        MaxPool2d-26          [-1, 256, 64, 64]               0\n",
      "           Conv2d-27          [-1, 512, 64, 64]       1,179,648\n",
      "      BatchNorm2d-28          [-1, 512, 64, 64]           1,024\n",
      "             ReLU-29          [-1, 512, 64, 64]               0\n",
      "           Conv2d-30          [-1, 512, 64, 64]       2,359,296\n",
      "      BatchNorm2d-31          [-1, 512, 64, 64]           1,024\n",
      "             ReLU-32          [-1, 512, 64, 64]               0\n",
      "       DoubleConv-33          [-1, 512, 64, 64]               0\n",
      "             Down-34          [-1, 512, 64, 64]               0\n",
      "        MaxPool2d-35          [-1, 512, 32, 32]               0\n",
      "           Conv2d-36         [-1, 1024, 32, 32]       4,718,592\n",
      "      BatchNorm2d-37         [-1, 1024, 32, 32]           2,048\n",
      "             ReLU-38         [-1, 1024, 32, 32]               0\n",
      "           Conv2d-39         [-1, 1024, 32, 32]       9,437,184\n",
      "      BatchNorm2d-40         [-1, 1024, 32, 32]           2,048\n",
      "             ReLU-41         [-1, 1024, 32, 32]               0\n",
      "       DoubleConv-42         [-1, 1024, 32, 32]               0\n",
      "             Down-43         [-1, 1024, 32, 32]               0\n",
      "  ConvTranspose2d-44          [-1, 512, 64, 64]       2,097,664\n",
      "           Conv2d-45          [-1, 512, 64, 64]       4,718,592\n",
      "      BatchNorm2d-46          [-1, 512, 64, 64]           1,024\n",
      "             ReLU-47          [-1, 512, 64, 64]               0\n",
      "           Conv2d-48          [-1, 512, 64, 64]       2,359,296\n",
      "      BatchNorm2d-49          [-1, 512, 64, 64]           1,024\n",
      "             ReLU-50          [-1, 512, 64, 64]               0\n",
      "       DoubleConv-51          [-1, 512, 64, 64]               0\n",
      "               Up-52          [-1, 512, 64, 64]               0\n",
      "  ConvTranspose2d-53        [-1, 256, 128, 128]         524,544\n",
      "           Conv2d-54        [-1, 256, 128, 128]       1,179,648\n",
      "      BatchNorm2d-55        [-1, 256, 128, 128]             512\n",
      "             ReLU-56        [-1, 256, 128, 128]               0\n",
      "           Conv2d-57        [-1, 256, 128, 128]         589,824\n",
      "      BatchNorm2d-58        [-1, 256, 128, 128]             512\n",
      "             ReLU-59        [-1, 256, 128, 128]               0\n",
      "       DoubleConv-60        [-1, 256, 128, 128]               0\n",
      "               Up-61        [-1, 256, 128, 128]               0\n",
      "  ConvTranspose2d-62        [-1, 128, 256, 256]         131,200\n",
      "           Conv2d-63        [-1, 128, 256, 256]         294,912\n",
      "      BatchNorm2d-64        [-1, 128, 256, 256]             256\n",
      "             ReLU-65        [-1, 128, 256, 256]               0\n",
      "           Conv2d-66        [-1, 128, 256, 256]         147,456\n",
      "      BatchNorm2d-67        [-1, 128, 256, 256]             256\n",
      "             ReLU-68        [-1, 128, 256, 256]               0\n",
      "       DoubleConv-69        [-1, 128, 256, 256]               0\n",
      "               Up-70        [-1, 128, 256, 256]               0\n",
      "  ConvTranspose2d-71         [-1, 64, 512, 512]          32,832\n",
      "           Conv2d-72         [-1, 64, 512, 512]          73,728\n",
      "      BatchNorm2d-73         [-1, 64, 512, 512]             128\n",
      "             ReLU-74         [-1, 64, 512, 512]               0\n",
      "           Conv2d-75         [-1, 64, 512, 512]          36,864\n",
      "      BatchNorm2d-76         [-1, 64, 512, 512]             128\n",
      "             ReLU-77         [-1, 64, 512, 512]               0\n",
      "       DoubleConv-78         [-1, 64, 512, 512]               0\n",
      "               Up-79         [-1, 64, 512, 512]               0\n",
      "           Conv2d-80          [-1, 2, 512, 512]             130\n",
      "          OutConv-81          [-1, 2, 512, 512]               0\n",
      "================================================================\n",
      "Total params: 31,037,698\n",
      "Trainable params: 31,037,698\n",
      "Non-trainable params: 0\n",
      "----------------------------------------------------------------\n",
      "Input size (MB): 3.00\n",
      "Forward/backward pass size (MB): 4084.00\n",
      "Params size (MB): 118.40\n",
      "Estimated Total Size (MB): 4205.40\n",
      "----------------------------------------------------------------\n",
      "torch.Size([1, 2, 512, 512])\n"
     ]
    }
   ],
   "source": [
    "\n",
    "# 创建模型实例\n",
    "model = UNet(n_channels=3, n_classes=2)\n",
    "# Move the model to the GPU\n",
    "model = model.to(device)\n",
    "\n",
    "summary(model, input_size=(3, 512, 512))\n",
    "\n",
    "# random input\n",
    "x = torch.randn(1, 3, 512, 512).to(device)\n",
    "torch_out = model(x)\n",
    "print(torch_out.shape)"
   ],
   "metadata": {
    "collapsed": false
   }
  },
  {
   "cell_type": "code",
   "execution_count": null,
   "outputs": [],
   "source": [
    "import datetime\n",
    "\n",
    "# 获取当前日期和时间\n",
    "current_time = datetime.datetime.now().strftime(\"%Y-%m-%d_%H-%M-%S\")\n",
    "\n",
    "# 文件名使用当前日期和时间\n",
    "filename = f'unet_{current_time}.pth'\n",
    "\n",
    "# 保存模型状态\n",
    "torch.save(model.state_dict(), filename)"
   ],
   "metadata": {
    "collapsed": false
   }
  },
  {
   "cell_type": "code",
   "execution_count": null,
   "outputs": [],
   "source": [
    "# 读取模型状态\n",
    "# model = UNet(n_channels=3, n_classes=2)\n",
    "pthfile = 'unet_***.pth'\n",
    "model.load_state_dict(torch.load(pthfile))"
   ],
   "metadata": {
    "collapsed": false
   }
  },
  {
   "cell_type": "code",
   "execution_count": 10,
   "outputs": [],
   "source": [
    "optimizer = torch.optim.RMSprop(model.parameters(), lr=0.01, weight_decay=0.001, momentum=0.8, foreach=True)\n",
    "scheduler = torch.optim.lr_scheduler.ReduceLROnPlateau(optimizer, 'max', patience=5)  # goal: maximize Dice score\n",
    "grad_scaler = torch.cuda.amp.GradScaler(enabled=False)\n",
    "criterion  = nn.CrossEntropyLoss()"
   ],
   "metadata": {
    "collapsed": false
   }
  },
  {
   "cell_type": "code",
   "execution_count": 11,
   "outputs": [],
   "source": [
    "epochs = 2\n",
    "log_interval = 10"
   ],
   "metadata": {
    "collapsed": false
   }
  },
  {
   "cell_type": "code",
   "execution_count": 12,
   "outputs": [
    {
     "name": "stdout",
     "output_type": "stream",
     "text": [
      "Train Epoch: 0 [0/9420 (0%)]\tLoss: 1.659857\n",
      "Train Epoch: 0 [40/9420 (0%)]\tLoss: 0.485426\n"
     ]
    },
    {
     "ename": "KeyboardInterrupt",
     "evalue": "",
     "output_type": "error",
     "traceback": [
      "\u001B[1;31m---------------------------------------------------------------------------\u001B[0m",
      "\u001B[1;31mKeyboardInterrupt\u001B[0m                         Traceback (most recent call last)",
      "Cell \u001B[1;32mIn[12], line 7\u001B[0m\n\u001B[0;32m      4\u001B[0m total_loss \u001B[38;5;241m=\u001B[39m \u001B[38;5;241m0\u001B[39m  \u001B[38;5;66;03m# 用于计算平均损失\u001B[39;00m\n\u001B[0;32m      6\u001B[0m \u001B[38;5;28;01mfor\u001B[39;00m batch_idx, (data, target) \u001B[38;5;129;01min\u001B[39;00m \u001B[38;5;28menumerate\u001B[39m(train_loader):\n\u001B[1;32m----> 7\u001B[0m     data, target \u001B[38;5;241m=\u001B[39m \u001B[43mdata\u001B[49m\u001B[38;5;241;43m.\u001B[39;49m\u001B[43mto\u001B[49m\u001B[43m(\u001B[49m\u001B[43mdevice\u001B[49m\u001B[43m)\u001B[49m, target\u001B[38;5;241m.\u001B[39mto(device)\n\u001B[0;32m      8\u001B[0m     optimizer\u001B[38;5;241m.\u001B[39mzero_grad()\n\u001B[0;32m     10\u001B[0m     \u001B[38;5;28;01mwith\u001B[39;00m torch\u001B[38;5;241m.\u001B[39mcuda\u001B[38;5;241m.\u001B[39mamp\u001B[38;5;241m.\u001B[39mautocast(enabled\u001B[38;5;241m=\u001B[39m\u001B[38;5;28;01mFalse\u001B[39;00m):\n",
      "\u001B[1;31mKeyboardInterrupt\u001B[0m: "
     ]
    }
   ],
   "source": [
    "# 训练模型\n",
    "model.train()\n",
    "for epoch in range(epochs):\n",
    "    total_loss = 0  # 用于计算平均损失\n",
    "\n",
    "    for batch_idx, (data, target) in enumerate(train_loader):\n",
    "        data, target = data.to(device), target.to(device)\n",
    "        optimizer.zero_grad()\n",
    "\n",
    "        with torch.cuda.amp.autocast(enabled=False):\n",
    "            output = model(data)\n",
    "            loss_val = criterion(output, target)  # 使用 criterion 代替 loss\n",
    "\n",
    "        total_loss += loss_val.item()  # 累加损失\n",
    "\n",
    "        grad_scaler.scale(loss_val).backward()\n",
    "        grad_scaler.step(optimizer)\n",
    "        grad_scaler.update()\n",
    "\n",
    "        if batch_idx % log_interval == 0:\n",
    "            print('Train Epoch: {} [{}/{} ({:.0f}%)]\\tLoss: {:.6f}'.format(\n",
    "                epoch, batch_idx * len(data),\n",
    "                len(train_loader.dataset),\n",
    "                100. * batch_idx / len(train_loader),\n",
    "                loss_val.item()))  # 使用 loss_val.item()\n",
    "\n",
    "    avg_loss = total_loss / len(train_loader)  # 计算平均损失\n",
    "    scheduler.step(avg_loss)  # 使用平均损失作为调度器的输入"
   ],
   "metadata": {
    "collapsed": false
   }
  },
  {
   "cell_type": "code",
   "execution_count": 30,
   "outputs": [],
   "source": [
    "# 释放显存\n",
    "torch.cuda.empty_cache()\n"
   ],
   "metadata": {
    "collapsed": false
   }
  },
  {
   "cell_type": "code",
   "execution_count": null,
   "outputs": [],
   "source": [],
   "metadata": {
    "collapsed": false
   }
  }
 ],
 "metadata": {
  "kernelspec": {
   "display_name": "Python 3",
   "language": "python",
   "name": "python3"
  },
  "language_info": {
   "codemirror_mode": {
    "name": "ipython",
    "version": 2
   },
   "file_extension": ".py",
   "mimetype": "text/x-python",
   "name": "python",
   "nbconvert_exporter": "python",
   "pygments_lexer": "ipython2",
   "version": "2.7.6"
  }
 },
 "nbformat": 4,
 "nbformat_minor": 0
}
